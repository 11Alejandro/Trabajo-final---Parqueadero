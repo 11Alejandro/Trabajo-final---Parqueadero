{
  "nbformat": 4,
  "nbformat_minor": 0,
  "metadata": {
    "colab": {
      "provenance": [],
      "authorship_tag": "ABX9TyOtt1VfHbGfPkqkG0Zv2JuC",
      "include_colab_link": true
    },
    "kernelspec": {
      "name": "python3",
      "display_name": "Python 3"
    },
    "language_info": {
      "name": "python"
    }
  },
  "cells": [
    {
      "cell_type": "markdown",
      "metadata": {
        "id": "view-in-github",
        "colab_type": "text"
      },
      "source": [
        "<a href=\"https://colab.research.google.com/github/11Alejandro/Trabajo-final---Parqueadero/blob/main/T%C3%81RIFA_PARQUEADERO.ipynb\" target=\"_parent\"><img src=\"https://colab.research.google.com/assets/colab-badge.svg\" alt=\"Open In Colab\"/></a>"
      ]
    },
    {
      "cell_type": "code",
      "execution_count": 1,
      "metadata": {
        "colab": {
          "base_uri": "https://localhost:8080/"
        },
        "id": "Sm624LJ52kdw",
        "outputId": "89044ae0-126e-4fb7-e806-69076cfada51"
      },
      "outputs": [
        {
          "output_type": "stream",
          "name": "stdout",
          "text": [
            "El archivo 'usuarios.txt' no fue encontrado. Se creará automáticamente.\n",
            "Bienvenido al sistema de parqueadero\n",
            "Por favor, ingrese su nombre de usuario: Manuela\n",
            "El usuario no está registrado.\n",
            "¿Desea registrarse? (s/n): s\n",
            "Usuario 'Manuela' registrado correctamente.\n",
            "Ingrese el tiempo que el vehículo estuvo parqueado (en minutos): 120\n",
            "Horas completas: 2\n",
            "Minutos restantes: 0\n",
            "Cuartos de hora a cobrar: 0\n",
            "Cobro por horas: 14000\n",
            "Cobro por cuartos: 0\n",
            "Total a pagar por el parqueo: 14000 pesos\n"
          ]
        }
      ],
      "source": [
        "# Leer lista de usuarios registrados desde un archivo\n",
        "try:\n",
        "    with open(\"usuarios.txt\", \"r\") as archivo:\n",
        "        usuarios_registrados = [linea.strip() for linea in archivo if linea.strip()]\n",
        "except FileNotFoundError:\n",
        "    usuarios_registrados = []\n",
        "    print(\"El archivo 'usuarios.txt' no fue encontrado. Se creará automáticamente.\")\n",
        "\n",
        "# Mostrar mensaje inicial\n",
        "print(\"Bienvenido al sistema de parqueadero\")\n",
        "\n",
        "# Solicitar el nombre de usuario\n",
        "usuario = input(\"Por favor, ingrese su nombre de usuario: \")\n",
        "\n",
        "# Verificar si el usuario está registrado\n",
        "if usuario in usuarios_registrados:\n",
        "    print(\"Usuario verificado correctamente. Puede retirar su vehículo.\")\n",
        "else:\n",
        "    print(\"El usuario no está registrado.\")\n",
        "    opcion = input(\"¿Desea registrarse? (s/n): \").lower()\n",
        "    if opcion == \"s\":\n",
        "        with open(\"usuarios.txt\", \"a\") as archivo:\n",
        "            archivo.write(usuario + \"\\n\")\n",
        "        usuarios_registrados.append(usuario)\n",
        "        print(f\"Usuario '{usuario}' registrado correctamente.\")\n",
        "    else:\n",
        "        print(\"No se ha registrado el usuario. No se puede retirar el vehículo.\")\n",
        "        exit()\n",
        "\n",
        "# Pedir al usuario el tiempo que estuvo parqueado (en minutos)\n",
        "try:\n",
        "    tiempo_parqueado = int(input(\"Ingrese el tiempo que el vehículo estuvo parqueado (en minutos): \"))\n",
        "except ValueError:\n",
        "    print(\"Entrada inválida. Debe ingresar un número entero.\")\n",
        "    exit()\n",
        "\n",
        "# Declarar los valores fijos\n",
        "valor_hora = 7000\n",
        "valor_cuarto = 1500\n",
        "\n",
        "# Calcular horas completas y minutos restantes\n",
        "horas = tiempo_parqueado // 60\n",
        "minutos_restantes = tiempo_parqueado % 60\n",
        "\n",
        "# Calcular cuartos de hora\n",
        "if minutos_restantes == 0:\n",
        "    cuartos = 0\n",
        "elif minutos_restantes <= 15:\n",
        "    cuartos = 1\n",
        "elif minutos_restantes <= 30:\n",
        "    cuartos = 2\n",
        "elif minutos_restantes <= 45:\n",
        "    cuartos = 3\n",
        "else:\n",
        "    cuartos = 4\n",
        "\n",
        "# Calcular el valor total\n",
        "total_horas = horas * valor_hora\n",
        "total_cuartos = cuartos * valor_cuarto\n",
        "total_a_pagar = total_horas + total_cuartos\n",
        "\n",
        "# Aplicar mínimo\n",
        "if total_a_pagar < valor_hora:\n",
        "    total_a_pagar = valor_hora\n",
        "    print(\"Se aplicó el pago mínimo de 7000 pesos.\")\n",
        "\n",
        "# Mostrar resumen\n",
        "print(\"Horas completas:\", horas)\n",
        "print(\"Minutos restantes:\", minutos_restantes)\n",
        "print(\"Cuartos de hora a cobrar:\", cuartos)\n",
        "print(\"Cobro por horas:\", total_horas)\n",
        "print(\"Cobro por cuartos:\", total_cuartos)\n",
        "print(\"Total a pagar por el parqueo:\", total_a_pagar, \"pesos\")\n",
        "\n"
      ]
    }
  ]
}
