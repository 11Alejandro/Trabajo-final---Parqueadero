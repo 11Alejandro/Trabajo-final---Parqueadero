{
  "nbformat": 4,
  "nbformat_minor": 0,
  "metadata": {
    "colab": {
      "provenance": [],
      "authorship_tag": "ABX9TyMW+5dZposG626klzBitoEs",
      "include_colab_link": true
    },
    "kernelspec": {
      "name": "python3",
      "display_name": "Python 3"
    },
    "language_info": {
      "name": "python"
    }
  },
  "cells": [
    {
      "cell_type": "markdown",
      "metadata": {
        "id": "view-in-github",
        "colab_type": "text"
      },
      "source": [
        "<a href=\"https://colab.research.google.com/github/11Alejandro/Trabajo-final---Parqueadero/blob/main/Gesti%C3%B3n_de_parqueadero2.ipynb\" target=\"_parent\"><img src=\"https://colab.research.google.com/assets/colab-badge.svg\" alt=\"Open In Colab\"/></a>"
      ]
    },
    {
      "cell_type": "code",
      "source": [
        "# Diccionario vacío que permitirá guardar los usuarios registrados\n",
        "Usuarios = {}\n",
        "\n",
        "# Función para la validación del nombre\n",
        "def validar_nombre(nombre):\n",
        "    if len(nombre) < 3:\n",
        "        print(\"Formato incorrecto. El nombre debe tener al menos 3 letras.\")\n",
        "        return False\n",
        "    if not nombre.isalpha():\n",
        "        print(\"Formato incorrecto. El nombre solo debe contener letras sin espacios, números ni símbolos.\")\n",
        "        return False\n",
        "    return True\n",
        "\n",
        "# Función para la validación del apellido\n",
        "def validar_apellido(apellido):\n",
        "    if len(apellido) < 3:\n",
        "        print(\"Formato incorrecto. El apellido debe tener al menos 3 letras.\")\n",
        "        return False\n",
        "    if not apellido.isalpha():\n",
        "        print(\"Formato incorrecto. El apellido solo debe contener letras sin espacios, números ni símbolos.\")\n",
        "        return False\n",
        "    return True\n",
        "\n",
        "# Función para la validación del documento de identidad\n",
        "def validar_documento_identidad(documento_identidad):\n",
        "    if not documento_identidad.isdigit():\n",
        "        print(\"Formato incorrecto. El documento solo debe contener números.\")\n",
        "        return False\n",
        "    if len(documento_identidad) < 3 or len(documento_identidad) > 15:\n",
        "        print(\"Formato incorrecto. El documento debe tener entre 3 y 15 dígitos.\")\n",
        "        return False\n",
        "    return True\n",
        "\n",
        "# Función para la validación de la placa\n",
        "def validar_placa(placa):\n",
        "    placa = placa.upper()  # Convertir a mayúsculas\n",
        "    if len(placa) != 6:\n",
        "        print(\"Formato incorrecto. La placa debe tener exactamente 6 caracteres.\")\n",
        "        return False\n",
        "    letras = placa[:3]\n",
        "    numeros = placa[3:]\n",
        "    if not letras.isalpha() or not numeros.isdigit():\n",
        "        print(\"Formato incorrecto. La placa debe tener 3 letras seguidas de 3 números. Ej: ABC123\")\n",
        "        return False\n",
        "    return True\n",
        "\n",
        "# Función para registrar usuarios\n",
        "def registrar_usuario():\n",
        "    print(\"\\n--- Registro de Usuario ---\")\n",
        "\n",
        "    # Validar nombre\n",
        "    while True:\n",
        "        nombre = input(\"Ingrese su nombre: \")\n",
        "        if validar_nombre(nombre):\n",
        "            break\n",
        "\n",
        "    # Validar apellido\n",
        "    while True:\n",
        "        apellido = input(\"Ingrese su apellido: \")\n",
        "        if validar_apellido(apellido):\n",
        "            break\n",
        "\n",
        "    # Validar documento de identidad\n",
        "    while True:\n",
        "        documento = input(\"Ingrese su número de documento: \")\n",
        "        if validar_documento_identidad(documento):\n",
        "            break\n",
        "\n",
        "    # Validar placa\n",
        "    while True:\n",
        "        placa = input(\"Ingrese la placa del vehículo (formato ABC123): \")\n",
        "        if validar_placa(placa):\n",
        "            break\n",
        "\n",
        "    # Agregar usuario al diccionario\n",
        "    Usuarios[documento] = {\n",
        "        \"nombre\": nombre,\n",
        "        \"apellido\": apellido,\n",
        "        \"documento_identidad\": documento,\n",
        "        \"placa\": placa\n",
        "    }\n",
        "    print(\"Usuario registrado exitosamente.\")\n",
        "\n",
        "# Ejecutar función\n",
        "registrar_usuario()\n"
      ],
      "metadata": {
        "colab": {
          "base_uri": "https://localhost:8080/"
        },
        "id": "7jOMsJth6Oal",
        "outputId": "43f6d24f-7748-4c34-e69a-3f0eb8468489"
      },
      "execution_count": 35,
      "outputs": [
        {
          "output_type": "stream",
          "name": "stdout",
          "text": [
            "\n",
            "--- Registro de Usuario ---\n",
            "Ingrese su nombre: jairo\n",
            "Ingrese su apellido: cadavi\n",
            "Ingrese su número de documento: 123456\n",
            "Ingrese la placa del vehículo (formato ABC123): abc123\n",
            "Usuario registrado exitosamente.\n"
          ]
        }
      ]
    }
  ]
}